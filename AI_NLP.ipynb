{
 "cells": [
  {
   "cell_type": "code",
   "execution_count": 2,
   "id": "2a1e9218-0258-4682-8b4f-85f9982ae94b",
   "metadata": {},
   "outputs": [
    {
     "name": "stdout",
     "output_type": "stream",
     "text": [
      "Defaulting to user installation because normal site-packages is not writeable\n",
      "Requirement already satisfied: nltk in c:\\programdata\\anaconda3\\lib\\site-packages (3.8.1)\n",
      "Requirement already satisfied: click in c:\\programdata\\anaconda3\\lib\\site-packages (from nltk) (8.1.7)\n",
      "Requirement already satisfied: joblib in c:\\programdata\\anaconda3\\lib\\site-packages (from nltk) (1.2.0)\n",
      "Requirement already satisfied: regex>=2021.8.3 in c:\\programdata\\anaconda3\\lib\\site-packages (from nltk) (2023.10.3)\n",
      "Requirement already satisfied: tqdm in c:\\programdata\\anaconda3\\lib\\site-packages (from nltk) (4.65.0)\n",
      "Requirement already satisfied: colorama in c:\\programdata\\anaconda3\\lib\\site-packages (from click->nltk) (0.4.6)\n"
     ]
    }
   ],
   "source": [
    "!pip install nltk\n",
    "import nltk"
   ]
  },
  {
   "cell_type": "code",
   "execution_count": 3,
   "id": "de3df964-aeba-4af1-817c-cc6ffc5ac337",
   "metadata": {},
   "outputs": [
    {
     "name": "stderr",
     "output_type": "stream",
     "text": [
      "[nltk_data] Downloading package punkt to\n",
      "[nltk_data]     C:\\Users\\Sanika\\AppData\\Roaming\\nltk_data...\n",
      "[nltk_data]   Package punkt is already up-to-date!\n",
      "[nltk_data] Downloading package stopwords to\n",
      "[nltk_data]     C:\\Users\\Sanika\\AppData\\Roaming\\nltk_data...\n",
      "[nltk_data]   Package stopwords is already up-to-date!\n"
     ]
    },
    {
     "data": {
      "text/plain": [
       "True"
      ]
     },
     "execution_count": 3,
     "metadata": {},
     "output_type": "execute_result"
    }
   ],
   "source": [
    "nltk.download('punkt')\n",
    "nltk.download('stopwords')"
   ]
  },
  {
   "cell_type": "code",
   "execution_count": 4,
   "id": "bfa73684-89cd-43df-ac4a-0f0f43245b9c",
   "metadata": {},
   "outputs": [],
   "source": [
    "from nltk import word_tokenize,sent_tokenize\n",
    "from nltk.corpus import stopwords"
   ]
  },
  {
   "cell_type": "code",
   "execution_count": 5,
   "id": "90241237-7753-4404-bb13-70983c34ec7d",
   "metadata": {},
   "outputs": [],
   "source": [
    "stopwords=stopwords.words('english')"
   ]
  },
  {
   "cell_type": "code",
   "execution_count": 6,
   "id": "be816a16-05d7-4064-8028-02b70b25a3af",
   "metadata": {},
   "outputs": [
    {
     "name": "stdout",
     "output_type": "stream",
     "text": [
      "['i', 'me', 'my', 'myself', 'we', 'our', 'ours', 'ourselves', 'you', \"you're\", \"you've\", \"you'll\", \"you'd\", 'your', 'yours', 'yourself', 'yourselves', 'he', 'him', 'his', 'himself', 'she', \"she's\", 'her', 'hers', 'herself', 'it', \"it's\", 'its', 'itself', 'they', 'them', 'their', 'theirs', 'themselves', 'what', 'which', 'who', 'whom', 'this', 'that', \"that'll\", 'these', 'those', 'am', 'is', 'are', 'was', 'were', 'be', 'been', 'being', 'have', 'has', 'had', 'having', 'do', 'does', 'did', 'doing', 'a', 'an', 'the', 'and', 'but', 'if', 'or', 'because', 'as', 'until', 'while', 'of', 'at', 'by', 'for', 'with', 'about', 'against', 'between', 'into', 'through', 'during', 'before', 'after', 'above', 'below', 'to', 'from', 'up', 'down', 'in', 'out', 'on', 'off', 'over', 'under', 'again', 'further', 'then', 'once', 'here', 'there', 'when', 'where', 'why', 'how', 'all', 'any', 'both', 'each', 'few', 'more', 'most', 'other', 'some', 'such', 'no', 'nor', 'not', 'only', 'own', 'same', 'so', 'than', 'too', 'very', 's', 't', 'can', 'will', 'just', 'don', \"don't\", 'should', \"should've\", 'now', 'd', 'll', 'm', 'o', 're', 've', 'y', 'ain', 'aren', \"aren't\", 'couldn', \"couldn't\", 'didn', \"didn't\", 'doesn', \"doesn't\", 'hadn', \"hadn't\", 'hasn', \"hasn't\", 'haven', \"haven't\", 'isn', \"isn't\", 'ma', 'mightn', \"mightn't\", 'mustn', \"mustn't\", 'needn', \"needn't\", 'shan', \"shan't\", 'shouldn', \"shouldn't\", 'wasn', \"wasn't\", 'weren', \"weren't\", 'won', \"won't\", 'wouldn', \"wouldn't\"]\n"
     ]
    }
   ],
   "source": [
    "print(stopwords)"
   ]
  },
  {
   "cell_type": "code",
   "execution_count": 30,
   "id": "8aef8be2-1de7-43ab-8dfc-82408ce24e0f",
   "metadata": {},
   "outputs": [
    {
     "data": {
      "text/plain": [
       "'i will walk 500 miles and i walk 500 miles more,just the person to be walked thousand miles to be fall down into your doors'"
      ]
     },
     "execution_count": 30,
     "metadata": {},
     "output_type": "execute_result"
    }
   ],
   "source": [
    "sent=\"I will walk 500 miles and I walk 500 miles more,just the person to be walked thousand miles to be fall down into your doors\".lower()\n",
    "sent"
   ]
  },
  {
   "cell_type": "code",
   "execution_count": 31,
   "id": "8848fba9-df6e-4cb6-a379-fe9140823c23",
   "metadata": {},
   "outputs": [
    {
     "name": "stdout",
     "output_type": "stream",
     "text": [
      "['i', 'will', 'walk', '500', 'miles', 'and', 'i', 'walk', '500', 'miles', 'more', ',', 'just', 'the', 'person', 'to', 'be', 'walked', 'thousand', 'miles', 'to', 'be', 'fall', 'down', 'into', 'your', 'doors']\n"
     ]
    }
   ],
   "source": [
    "words=word_tokenize(sent)\n",
    "print(words)"
   ]
  },
  {
   "cell_type": "code",
   "execution_count": 32,
   "id": "aa6c0077-c3fc-4efb-bbba-3671a749dc5b",
   "metadata": {},
   "outputs": [
    {
     "name": "stdout",
     "output_type": "stream",
     "text": [
      "['i will walk 500 miles and i walk 500 miles more,just the person to be walked thousand miles to be fall down into your doors']\n"
     ]
    }
   ],
   "source": [
    "sentences=sent_tokenize(sent)\n",
    "print(sentences)"
   ]
  },
  {
   "cell_type": "code",
   "execution_count": 34,
   "id": "831e4a38-b526-48b5-8832-62218365c70f",
   "metadata": {},
   "outputs": [
    {
     "name": "stdout",
     "output_type": "stream",
     "text": [
      "['walk', '500', 'miles', 'i', 'walk', '500', 'miles', ',', 'the', 'person', 'be', 'walked', 'thousand', 'miles', 'be', 'fall', 'into', 'doors']\n",
      "['walk', '500', 'miles', 'walk', '500', 'miles', ',', 'the', 'person', 'be', 'walked', 'thousand', 'miles', 'be', 'fall', 'into', 'doors']\n",
      "['walk', '500', 'miles', 'walk', '500', 'miles', ',', 'person', 'be', 'walked', 'thousand', 'miles', 'be', 'fall', 'into', 'doors']\n",
      "['walk', '500', 'miles', 'walk', '500', 'miles', ',', 'person', 'walked', 'thousand', 'miles', 'be', 'fall', 'into', 'doors']\n",
      "['walk', '500', 'miles', 'walk', '500', 'miles', ',', 'person', 'walked', 'thousand', 'miles', 'fall', 'into', 'doors']\n",
      "['walk', '500', 'miles', 'walk', '500', 'miles', ',', 'person', 'walked', 'thousand', 'miles', 'fall', 'doors']\n"
     ]
    }
   ],
   "source": [
    "for word in words:\n",
    "    if word in stopwords:\n",
    "        words.remove(word)\n",
    "        print(words)"
   ]
  },
  {
   "cell_type": "code",
   "execution_count": 35,
   "id": "c3a5335a-802f-48f6-a90c-43c47624bb1b",
   "metadata": {},
   "outputs": [],
   "source": [
    "from nltk import PorterStemmer\n",
    "stemmer=PorterStemmer()"
   ]
  },
  {
   "cell_type": "code",
   "execution_count": 36,
   "id": "c0fc3c16-ef44-4be9-8bbb-4bacfda459c5",
   "metadata": {},
   "outputs": [
    {
     "name": "stdout",
     "output_type": "stream",
     "text": [
      "['walk', '500', 'mile', 'walk', '500', 'mile', ',', 'person', 'walk', 'thousand', 'mile', 'fall', 'door']\n"
     ]
    }
   ],
   "source": [
    "stemmed_words=[stemmer.stem(word) for word in words]\n",
    "print(stemmed_words)"
   ]
  },
  {
   "cell_type": "code",
   "execution_count": 37,
   "id": "87a2dd21-50e6-42b2-b622-cb882d2aa05f",
   "metadata": {},
   "outputs": [
    {
     "name": "stderr",
     "output_type": "stream",
     "text": [
      "[nltk_data] Downloading package averaged_perceptron_tagger to\n",
      "[nltk_data]     C:\\Users\\Sanika\\AppData\\Roaming\\nltk_data...\n",
      "[nltk_data]   Package averaged_perceptron_tagger is already up-to-\n",
      "[nltk_data]       date!\n"
     ]
    },
    {
     "data": {
      "text/plain": [
       "True"
      ]
     },
     "execution_count": 37,
     "metadata": {},
     "output_type": "execute_result"
    }
   ],
   "source": [
    "from collections import Counter\n",
    "from nltk import pos_tag\n",
    "nltk.download('averaged_perceptron_tagger')"
   ]
  },
  {
   "cell_type": "code",
   "execution_count": 38,
   "id": "ad319607-27ce-4e9c-9f78-171289b458b2",
   "metadata": {},
   "outputs": [
    {
     "name": "stdout",
     "output_type": "stream",
     "text": [
      "{'walk': 1}\n",
      "{'walk': 1, '500': 1}\n",
      "{'walk': 1, '500': 1, 'mile': 1}\n",
      "{'walk': 2, '500': 2, 'mile': 2, ',': 1}\n",
      "{'walk': 2, '500': 2, 'mile': 2, ',': 1, 'person': 1}\n",
      "{'walk': 3, '500': 2, 'mile': 2, ',': 1, 'person': 1, 'thousand': 1}\n",
      "{'walk': 3, '500': 2, 'mile': 3, ',': 1, 'person': 1, 'thousand': 1, 'fall': 1}\n",
      "{'walk': 3, '500': 2, 'mile': 3, ',': 1, 'person': 1, 'thousand': 1, 'fall': 1, 'door': 1}\n"
     ]
    }
   ],
   "source": [
    "count_dict={}\n",
    "for word in stemmed_words:\n",
    "    if word in count_dict:\n",
    "        count_dict[word]+=1\n",
    "    else:\n",
    "        count_dict[word]=1\n",
    "        print(count_dict)"
   ]
  },
  {
   "cell_type": "code",
   "execution_count": 39,
   "id": "d5ca408b-cb4a-4e38-8da6-62b84ae4711e",
   "metadata": {},
   "outputs": [
    {
     "name": "stdout",
     "output_type": "stream",
     "text": [
      "[('walk', 'NN'), ('500', 'CD'), ('mile', 'NN'), ('walk', 'NN'), ('500', 'CD'), ('mile', 'NN'), (',', ','), ('person', 'NN'), ('walk', 'NN'), ('thousand', 'CD'), ('mile', 'NN'), ('fall', 'NN'), ('door', 'NN')]\n"
     ]
    }
   ],
   "source": [
    "pos_tagging=pos_tag(stemmed_words)\n",
    "print(pos_tagging)"
   ]
  },
  {
   "cell_type": "code",
   "execution_count": 40,
   "id": "c0dd47e5-7ded-4284-9e3f-48a21b891538",
   "metadata": {},
   "outputs": [
    {
     "name": "stdout",
     "output_type": "stream",
     "text": [
      "Counter({'NN': 9, 'CD': 3, ',': 1})\n"
     ]
    }
   ],
   "source": [
    "count=Counter(tag for _ ,tag in pos_tagging)\n",
    "print(count)"
   ]
  }
 ],
 "metadata": {
  "kernelspec": {
   "display_name": "Python 3 (ipykernel)",
   "language": "python",
   "name": "python3"
  },
  "language_info": {
   "codemirror_mode": {
    "name": "ipython",
    "version": 3
   },
   "file_extension": ".py",
   "mimetype": "text/x-python",
   "name": "python",
   "nbconvert_exporter": "python",
   "pygments_lexer": "ipython3",
   "version": "3.11.7"
  }
 },
 "nbformat": 4,
 "nbformat_minor": 5
}
