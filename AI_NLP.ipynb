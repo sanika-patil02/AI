{
 "cells": [
  {
   "cell_type": "code",
   "execution_count": 1,
   "id": "2a1e9218-0258-4682-8b4f-85f9982ae94b",
   "metadata": {},
   "outputs": [
    {
     "name": "stdout",
     "output_type": "stream",
     "text": [
      "Defaulting to user installation because normal site-packages is not writeable\n",
      "Requirement already satisfied: nltk in c:\\programdata\\anaconda3\\lib\\site-packages (3.8.1)\n",
      "Requirement already satisfied: click in c:\\programdata\\anaconda3\\lib\\site-packages (from nltk) (8.1.7)\n",
      "Requirement already satisfied: joblib in c:\\programdata\\anaconda3\\lib\\site-packages (from nltk) (1.2.0)\n",
      "Requirement already satisfied: regex>=2021.8.3 in c:\\programdata\\anaconda3\\lib\\site-packages (from nltk) (2023.10.3)\n",
      "Requirement already satisfied: tqdm in c:\\programdata\\anaconda3\\lib\\site-packages (from nltk) (4.65.0)\n",
      "Requirement already satisfied: colorama in c:\\programdata\\anaconda3\\lib\\site-packages (from click->nltk) (0.4.6)\n"
     ]
    }
   ],
   "source": [
    "!pip install nltk\n",
    "import nltk"
   ]
  },
  {
   "cell_type": "code",
   "execution_count": 2,
   "id": "de3df964-aeba-4af1-817c-cc6ffc5ac337",
   "metadata": {},
   "outputs": [
    {
     "name": "stderr",
     "output_type": "stream",
     "text": [
      "[nltk_data] Downloading package punkt to\n",
      "[nltk_data]     C:\\Users\\Sanika\\AppData\\Roaming\\nltk_data...\n",
      "[nltk_data]   Package punkt is already up-to-date!\n",
      "[nltk_data] Downloading package stopwords to\n",
      "[nltk_data]     C:\\Users\\Sanika\\AppData\\Roaming\\nltk_data...\n",
      "[nltk_data]   Package stopwords is already up-to-date!\n"
     ]
    },
    {
     "data": {
      "text/plain": [
       "True"
      ]
     },
     "execution_count": 2,
     "metadata": {},
     "output_type": "execute_result"
    }
   ],
   "source": [
    "nltk.download('punkt')\n",
    "nltk.download('stopwords')"
   ]
  },
  {
   "cell_type": "code",
   "execution_count": 4,
   "id": "bfa73684-89cd-43df-ac4a-0f0f43245b9c",
   "metadata": {},
   "outputs": [],
   "source": [
    "from nltk import word_tokenize,sent_tokenize\n",
    "from nltk.corpus import stopwords"
   ]
  },
  {
   "cell_type": "code",
   "execution_count": 5,
   "id": "90241237-7753-4404-bb13-70983c34ec7d",
   "metadata": {},
   "outputs": [],
   "source": [
    "stopwords=stopwords.words('english')"
   ]
  },
  {
   "cell_type": "code",
   "execution_count": 6,
   "id": "be816a16-05d7-4064-8028-02b70b25a3af",
   "metadata": {},
   "outputs": [
    {
     "name": "stdout",
     "output_type": "stream",
     "text": [
      "['i', 'me', 'my', 'myself', 'we', 'our', 'ours', 'ourselves', 'you', \"you're\", \"you've\", \"you'll\", \"you'd\", 'your', 'yours', 'yourself', 'yourselves', 'he', 'him', 'his', 'himself', 'she', \"she's\", 'her', 'hers', 'herself', 'it', \"it's\", 'its', 'itself', 'they', 'them', 'their', 'theirs', 'themselves', 'what', 'which', 'who', 'whom', 'this', 'that', \"that'll\", 'these', 'those', 'am', 'is', 'are', 'was', 'were', 'be', 'been', 'being', 'have', 'has', 'had', 'having', 'do', 'does', 'did', 'doing', 'a', 'an', 'the', 'and', 'but', 'if', 'or', 'because', 'as', 'until', 'while', 'of', 'at', 'by', 'for', 'with', 'about', 'against', 'between', 'into', 'through', 'during', 'before', 'after', 'above', 'below', 'to', 'from', 'up', 'down', 'in', 'out', 'on', 'off', 'over', 'under', 'again', 'further', 'then', 'once', 'here', 'there', 'when', 'where', 'why', 'how', 'all', 'any', 'both', 'each', 'few', 'more', 'most', 'other', 'some', 'such', 'no', 'nor', 'not', 'only', 'own', 'same', 'so', 'than', 'too', 'very', 's', 't', 'can', 'will', 'just', 'don', \"don't\", 'should', \"should've\", 'now', 'd', 'll', 'm', 'o', 're', 've', 'y', 'ain', 'aren', \"aren't\", 'couldn', \"couldn't\", 'didn', \"didn't\", 'doesn', \"doesn't\", 'hadn', \"hadn't\", 'hasn', \"hasn't\", 'haven', \"haven't\", 'isn', \"isn't\", 'ma', 'mightn', \"mightn't\", 'mustn', \"mustn't\", 'needn', \"needn't\", 'shan', \"shan't\", 'shouldn', \"shouldn't\", 'wasn', \"wasn't\", 'weren', \"weren't\", 'won', \"won't\", 'wouldn', \"wouldn't\"]\n"
     ]
    }
   ],
   "source": [
    "print(stopwords)"
   ]
  },
  {
   "cell_type": "code",
   "execution_count": 7,
   "id": "8aef8be2-1de7-43ab-8dfc-82408ce24e0f",
   "metadata": {},
   "outputs": [
    {
     "data": {
      "text/plain": [
       "'i will walk 500 miles and i would walk 500 miles more,just the person who walked 1000 miles to be fall into your door'"
      ]
     },
     "execution_count": 7,
     "metadata": {},
     "output_type": "execute_result"
    }
   ],
   "source": [
    "sent=\"I will walk 500 miles and I would walk 500 miles more,just the person who walked 1000 miles to be fall into your door\".lower()\n",
    "sent"
   ]
  },
  {
   "cell_type": "code",
   "execution_count": 8,
   "id": "8848fba9-df6e-4cb6-a379-fe9140823c23",
   "metadata": {},
   "outputs": [
    {
     "name": "stdout",
     "output_type": "stream",
     "text": [
      "['i', 'will', 'walk', '500', 'miles', 'and', 'i', 'would', 'walk', '500', 'miles', 'more', ',', 'just', 'the', 'person', 'who', 'walked', '1000', 'miles', 'to', 'be', 'fall', 'into', 'your', 'door']\n"
     ]
    }
   ],
   "source": [
    "words=word_tokenize(sent)\n",
    "print(words)"
   ]
  },
  {
   "cell_type": "code",
   "execution_count": 9,
   "id": "aa6c0077-c3fc-4efb-bbba-3671a749dc5b",
   "metadata": {},
   "outputs": [
    {
     "name": "stdout",
     "output_type": "stream",
     "text": [
      "['i will walk 500 miles and i would walk 500 miles more,just the person who walked 1000 miles to be fall into your door']\n"
     ]
    }
   ],
   "source": [
    "sentences=sent_tokenize(sent)\n",
    "print(sentences)"
   ]
  },
  {
   "cell_type": "code",
   "execution_count": 10,
   "id": "831e4a38-b526-48b5-8832-62218365c70f",
   "metadata": {},
   "outputs": [
    {
     "name": "stdout",
     "output_type": "stream",
     "text": [
      "['will', 'walk', '500', 'miles', 'and', 'i', 'would', 'walk', '500', 'miles', 'more', ',', 'just', 'the', 'person', 'who', 'walked', '1000', 'miles', 'to', 'be', 'fall', 'into', 'your', 'door']\n",
      "['will', 'walk', '500', 'miles', 'i', 'would', 'walk', '500', 'miles', 'more', ',', 'just', 'the', 'person', 'who', 'walked', '1000', 'miles', 'to', 'be', 'fall', 'into', 'your', 'door']\n",
      "['will', 'walk', '500', 'miles', 'i', 'would', 'walk', '500', 'miles', ',', 'just', 'the', 'person', 'who', 'walked', '1000', 'miles', 'to', 'be', 'fall', 'into', 'your', 'door']\n",
      "['will', 'walk', '500', 'miles', 'i', 'would', 'walk', '500', 'miles', ',', 'the', 'person', 'who', 'walked', '1000', 'miles', 'to', 'be', 'fall', 'into', 'your', 'door']\n",
      "['will', 'walk', '500', 'miles', 'i', 'would', 'walk', '500', 'miles', ',', 'the', 'person', 'walked', '1000', 'miles', 'to', 'be', 'fall', 'into', 'your', 'door']\n",
      "['will', 'walk', '500', 'miles', 'i', 'would', 'walk', '500', 'miles', ',', 'the', 'person', 'walked', '1000', 'miles', 'be', 'fall', 'into', 'your', 'door']\n",
      "['will', 'walk', '500', 'miles', 'i', 'would', 'walk', '500', 'miles', ',', 'the', 'person', 'walked', '1000', 'miles', 'be', 'fall', 'your', 'door']\n"
     ]
    }
   ],
   "source": [
    "for word in words:\n",
    "    if word in stopwords:\n",
    "        words.remove(word)\n",
    "        print(words)"
   ]
  },
  {
   "cell_type": "code",
   "execution_count": 11,
   "id": "c3a5335a-802f-48f6-a90c-43c47624bb1b",
   "metadata": {},
   "outputs": [],
   "source": [
    "from nltk import PorterStemmer\n",
    "stemmer=PorterStemmer()"
   ]
  },
  {
   "cell_type": "code",
   "execution_count": 12,
   "id": "c0fc3c16-ef44-4be9-8bbb-4bacfda459c5",
   "metadata": {},
   "outputs": [
    {
     "name": "stdout",
     "output_type": "stream",
     "text": [
      "['will', 'walk', '500', 'mile', 'i', 'would', 'walk', '500', 'mile', ',', 'the', 'person', 'walk', '1000', 'mile', 'be', 'fall', 'your', 'door']\n"
     ]
    }
   ],
   "source": [
    "stemmed_words=[stemmer.stem(word) for word in words]\n",
    "print(stemmed_words)"
   ]
  },
  {
   "cell_type": "code",
   "execution_count": 19,
   "id": "87a2dd21-50e6-42b2-b622-cb882d2aa05f",
   "metadata": {},
   "outputs": [
    {
     "name": "stderr",
     "output_type": "stream",
     "text": [
      "[nltk_data] Downloading package averaged_perceptron_tagger to\n",
      "[nltk_data]     C:\\Users\\Sanika\\AppData\\Roaming\\nltk_data...\n",
      "[nltk_data]   Package averaged_perceptron_tagger is already up-to-\n",
      "[nltk_data]       date!\n"
     ]
    },
    {
     "data": {
      "text/plain": [
       "True"
      ]
     },
     "execution_count": 19,
     "metadata": {},
     "output_type": "execute_result"
    }
   ],
   "source": [
    "from collections import Counter\n",
    "from nltk import pos_tag\n",
    "nltk.download('averaged_perceptron_tagger')"
   ]
  },
  {
   "cell_type": "code",
   "execution_count": 14,
   "id": "ad319607-27ce-4e9c-9f78-171289b458b2",
   "metadata": {},
   "outputs": [
    {
     "name": "stdout",
     "output_type": "stream",
     "text": [
      "{'will': 1}\n",
      "{'will': 1, 'walk': 1}\n",
      "{'will': 1, 'walk': 1, '500': 1}\n",
      "{'will': 1, 'walk': 1, '500': 1, 'mile': 1}\n",
      "{'will': 1, 'walk': 1, '500': 1, 'mile': 1, 'i': 1}\n",
      "{'will': 1, 'walk': 1, '500': 1, 'mile': 1, 'i': 1, 'would': 1}\n",
      "{'will': 1, 'walk': 2, '500': 2, 'mile': 2, 'i': 1, 'would': 1, ',': 1}\n",
      "{'will': 1, 'walk': 2, '500': 2, 'mile': 2, 'i': 1, 'would': 1, ',': 1, 'the': 1}\n",
      "{'will': 1, 'walk': 2, '500': 2, 'mile': 2, 'i': 1, 'would': 1, ',': 1, 'the': 1, 'person': 1}\n",
      "{'will': 1, 'walk': 3, '500': 2, 'mile': 2, 'i': 1, 'would': 1, ',': 1, 'the': 1, 'person': 1, '1000': 1}\n",
      "{'will': 1, 'walk': 3, '500': 2, 'mile': 3, 'i': 1, 'would': 1, ',': 1, 'the': 1, 'person': 1, '1000': 1, 'be': 1}\n",
      "{'will': 1, 'walk': 3, '500': 2, 'mile': 3, 'i': 1, 'would': 1, ',': 1, 'the': 1, 'person': 1, '1000': 1, 'be': 1, 'fall': 1}\n",
      "{'will': 1, 'walk': 3, '500': 2, 'mile': 3, 'i': 1, 'would': 1, ',': 1, 'the': 1, 'person': 1, '1000': 1, 'be': 1, 'fall': 1, 'your': 1}\n",
      "{'will': 1, 'walk': 3, '500': 2, 'mile': 3, 'i': 1, 'would': 1, ',': 1, 'the': 1, 'person': 1, '1000': 1, 'be': 1, 'fall': 1, 'your': 1, 'door': 1}\n"
     ]
    }
   ],
   "source": [
    "count_dict={}\n",
    "for word in stemmed_words:\n",
    "    if word in count_dict:\n",
    "        count_dict[word]+=1\n",
    "    else:\n",
    "        count_dict[word]=1\n",
    "        print(count_dict)"
   ]
  },
  {
   "cell_type": "code",
   "execution_count": 15,
   "id": "d5ca408b-cb4a-4e38-8da6-62b84ae4711e",
   "metadata": {},
   "outputs": [
    {
     "name": "stdout",
     "output_type": "stream",
     "text": [
      "[('will', 'MD'), ('walk', 'VB'), ('500', 'CD'), ('mile', 'NN'), ('i', 'NN'), ('would', 'MD'), ('walk', 'VB'), ('500', 'CD'), ('mile', 'NN'), (',', ','), ('the', 'DT'), ('person', 'NN'), ('walk', 'NN'), ('1000', 'CD'), ('mile', 'NN'), ('be', 'VB'), ('fall', 'VBN'), ('your', 'PRP$'), ('door', 'NN')]\n"
     ]
    }
   ],
   "source": [
    "pos_tagging=pos_tag(stemmed_words)\n",
    "print(pos_tagging)"
   ]
  },
  {
   "cell_type": "code",
   "execution_count": 21,
   "id": "c0dd47e5-7ded-4284-9e3f-48a21b891538",
   "metadata": {},
   "outputs": [
    {
     "name": "stdout",
     "output_type": "stream",
     "text": [
      "Counter({'NN': 7, 'VB': 3, 'CD': 3, 'MD': 2, ',': 1, 'DT': 1, 'VBN': 1, 'PRP$': 1})\n"
     ]
    }
   ],
   "source": [
    "count=Counter(tag for _ ,tag in pos_tagging)\n",
    "print(count)"
   ]
  }
 ],
 "metadata": {
  "kernelspec": {
   "display_name": "Python 3 (ipykernel)",
   "language": "python",
   "name": "python3"
  },
  "language_info": {
   "codemirror_mode": {
    "name": "ipython",
    "version": 3
   },
   "file_extension": ".py",
   "mimetype": "text/x-python",
   "name": "python",
   "nbconvert_exporter": "python",
   "pygments_lexer": "ipython3",
   "version": "3.11.7"
  }
 },
 "nbformat": 4,
 "nbformat_minor": 5
}
